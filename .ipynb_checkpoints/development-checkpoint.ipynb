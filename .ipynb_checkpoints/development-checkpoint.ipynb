{
 "cells": [
  {
   "cell_type": "code",
   "execution_count": 108,
   "metadata": {
    "tags": []
   },
   "outputs": [],
   "source": [
    "import subprocess\n",
    "\n",
    "def install(package):\n",
    "    subprocess.check_call([\"pip\", \"install\", package])\n",
    "\n",
    "# Try to import packages; if they don't exist, install them\n",
    "try:\n",
    "    import yfinance as yf\n",
    "    import pandas as pd\n",
    "except ImportError:\n",
    "    install(\"yfinance\")\n",
    "    import yfinance as yf\n",
    "    import pandas as pd\n",
    "\n",
    "def download_historical_stock_data(ticker: str, start_date, end_date):\n",
    "    try:\n",
    "        print(f'>>> Downloading {ticker} Stock Data from yfinance Website.')\n",
    "        \n",
    "        # Download historical data\n",
    "        data = yf.download(ticker, start=start_date, end=end_date)\n",
    "        print(f'>>> Downloading {ticker} is Complete.')\n",
    "        print(f\"{'-'}\"*40)\n",
    "\n",
    "        # Reset the index to get the 'Date' as a column\n",
    "        data.reset_index(inplace=True)\n",
    "\n",
    "        # Sort the DataFrame by the 'Date' column in ascending order\n",
    "        data.sort_values(by='Date', inplace=True)\n",
    "\n",
    "        # Convert the 'Date' column to datetime format\n",
    "        data['Date'] = pd.to_datetime(data['Date'])\n",
    "\n",
    "        # Write the merged DataFrame to a CSV file\n",
    "        save_path = f\"data/{ticker}_stock_price_data.csv\"\n",
    "        data.to_csv(save_path, index=False)\n",
    "        print(f\"{'-'}\"*40)\n",
    "        print(f'>>> Saving {ticker} is Complete and Saved at: {save_path}')\n",
    "        print(f\"{'='}\"*80)\n",
    "        \n",
    "        return data\n",
    "\n",
    "    except Exception as e:\n",
    "        print(f\"Error: {e}\")\n",
    "        return None"
   ]
  },
  {
   "cell_type": "code",
   "execution_count": 110,
   "metadata": {
    "tags": []
   },
   "outputs": [
    {
     "name": "stdout",
     "output_type": "stream",
     "text": [
      ">>> Downloading GOOGL Stock Data from yfinance Website.\n",
      "[*********************100%%**********************]  1 of 1 completed\n",
      ">>> Downloading GOOGL is Complete.\n",
      "----------------------------------------\n",
      "----------------------------------------\n",
      ">>> Saving GOOGL is Complete and Saved at: data/GOOGL_stock_price_data.csv\n",
      "================================================================================\n",
      "<class 'pandas.core.frame.DataFrame'>\n",
      "RangeIndex: 251 entries, 0 to 250\n",
      "Data columns (total 7 columns):\n",
      " #   Column     Non-Null Count  Dtype         \n",
      "---  ------     --------------  -----         \n",
      " 0   Date       251 non-null    datetime64[ns]\n",
      " 1   Open       251 non-null    float64       \n",
      " 2   High       251 non-null    float64       \n",
      " 3   Low        251 non-null    float64       \n",
      " 4   Close      251 non-null    float64       \n",
      " 5   Adj Close  251 non-null    float64       \n",
      " 6   Volume     251 non-null    int64         \n",
      "dtypes: datetime64[ns](1), float64(5), int64(1)\n",
      "memory usage: 13.9 KB\n",
      "None\n",
      "        Date        Open        High         Low       Close   Adj Close  \\\n",
      "0 2022-01-03  145.054993  145.850998  143.712997  144.991501  144.991501   \n",
      "1 2022-01-04  145.395996  146.485001  143.716507  144.399506  144.399506   \n",
      "2 2022-01-05  144.419998  144.499496  137.688004  137.774994  137.774994   \n",
      "3 2022-01-06  136.998505  139.940002  136.558502  137.747498  137.747498   \n",
      "4 2022-01-07  138.145493  138.448502  135.766495  137.016998  137.016998   \n",
      "\n",
      "     Volume  \n",
      "0  28646000  \n",
      "1  28400000  \n",
      "2  54618000  \n",
      "3  37348000  \n",
      "4  29760000  \n"
     ]
    }
   ],
   "source": [
    "ticker = \"GOOGL\"  # Replace with the desired stock symbol\n",
    "start_date = \"2022-01-01\"\n",
    "end_date = \"2022-12-31\"\n",
    "\n",
    "# from download_historical_stock_data import *\n",
    "stock_data = download_historical_stock_data(ticker, start_date, end_date)\n",
    "\n",
    "if stock_data is not None:\n",
    "    print(stock_data.info())  # Check the data types, 'Date' should be datetime64[ns]\n",
    "    print(stock_data.head())\n"
   ]
  },
  {
   "cell_type": "code",
   "execution_count": 114,
   "metadata": {
    "tags": []
   },
   "outputs": [
    {
     "name": "stdout",
     "output_type": "stream",
     "text": [
      ">>> Downloading GOOGL Stock Data from yfinance Website.\n",
      "[*********************100%%**********************]  1 of 1 completed\n",
      ">>> Downloading GOOGL is Complete.\n",
      "----------------------------------------\n",
      "----------------------------------------\n",
      ">>> Saving GOOGL is Complete and Saved at: data/GOOGL_stock_price_data.csv\n",
      "================================================================================\n",
      ">>> Downloading AAPL Stock Data from yfinance Website.\n",
      "[*********************100%%**********************]  1 of 1 completed\n",
      ">>> Downloading AAPL is Complete.\n",
      "----------------------------------------\n",
      "----------------------------------------\n",
      ">>> Saving AAPL is Complete and Saved at: data/AAPL_stock_price_data.csv\n",
      "================================================================================\n",
      ">>> Downloading MSFT Stock Data from yfinance Website.\n",
      "[*********************100%%**********************]  1 of 1 completed\n",
      ">>> Downloading MSFT is Complete.\n",
      "----------------------------------------\n",
      "----------------------------------------\n",
      ">>> Saving MSFT is Complete and Saved at: data/MSFT_stock_price_data.csv\n",
      "================================================================================\n",
      ">>> Downloading TSLA Stock Data from yfinance Website.\n",
      "[*********************100%%**********************]  1 of 1 completed"
     ]
    },
    {
     "name": "stderr",
     "output_type": "stream",
     "text": [
      "\n",
      "1 Failed download:\n",
      "['TSLA']: Exception('%ticker%: No price data found, symbol may be delisted (1d 2020-01-01 -> 2023-12-31)')\n"
     ]
    },
    {
     "name": "stdout",
     "output_type": "stream",
     "text": [
      "\n",
      ">>> Downloading TSLA is Complete.\n",
      "----------------------------------------\n",
      "----------------------------------------\n",
      ">>> Saving TSLA is Complete and Saved at: data/TSLA_stock_price_data.csv\n",
      "================================================================================\n",
      "\n",
      ">>> You have downloaded 4 datasets.\n"
     ]
    }
   ],
   "source": [
    "# ticker_symbol = \"AAPL\"  # Replace with the desired stock symbol\n",
    "# from download_historical_stock_data import *\n",
    "start_date = \"2020-01-01\"\n",
    "end_date = \"2023-12-31\"\n",
    "tickers = [\"GOOGL\", \"AAPL\", \"MSFT\", \"TSLA\"]\n",
    "\n",
    "for ticker in tickers:\n",
    "    download_historical_stock_data(ticker, start_date, end_date)\n",
    "\n",
    "# download_historical_stock_data(ticker=symbol, start=start_date, end=end_date)\n",
    "print()\n",
    "print(f'>>> You have downloaded {len(ticker)} datasets.')"
   ]
  },
  {
   "cell_type": "code",
   "execution_count": 122,
   "metadata": {
    "tags": []
   },
   "outputs": [
    {
     "name": "stdout",
     "output_type": "stream",
     "text": [
      "(3018, 8)\n",
      "\n"
     ]
    },
    {
     "data": {
      "text/html": [
       "<div>\n",
       "<style scoped>\n",
       "    .dataframe tbody tr th:only-of-type {\n",
       "        vertical-align: middle;\n",
       "    }\n",
       "\n",
       "    .dataframe tbody tr th {\n",
       "        vertical-align: top;\n",
       "    }\n",
       "\n",
       "    .dataframe thead th {\n",
       "        text-align: right;\n",
       "    }\n",
       "</style>\n",
       "<table border=\"1\" class=\"dataframe\">\n",
       "  <thead>\n",
       "    <tr style=\"text-align: right;\">\n",
       "      <th></th>\n",
       "      <th>symbol</th>\n",
       "      <th>Date</th>\n",
       "      <th>Open</th>\n",
       "      <th>High</th>\n",
       "      <th>Low</th>\n",
       "      <th>Close</th>\n",
       "      <th>Adj Close</th>\n",
       "      <th>Volume</th>\n",
       "    </tr>\n",
       "  </thead>\n",
       "  <tbody>\n",
       "    <tr>\n",
       "      <th>1001</th>\n",
       "      <td>MSFT</td>\n",
       "      <td>2023-12-22</td>\n",
       "      <td>373.679993</td>\n",
       "      <td>375.179993</td>\n",
       "      <td>372.709991</td>\n",
       "      <td>374.579987</td>\n",
       "      <td>374.579987</td>\n",
       "      <td>17091100</td>\n",
       "    </tr>\n",
       "    <tr>\n",
       "      <th>1002</th>\n",
       "      <td>MSFT</td>\n",
       "      <td>2023-12-26</td>\n",
       "      <td>375.000000</td>\n",
       "      <td>376.940002</td>\n",
       "      <td>373.500000</td>\n",
       "      <td>374.660004</td>\n",
       "      <td>374.660004</td>\n",
       "      <td>12673100</td>\n",
       "    </tr>\n",
       "    <tr>\n",
       "      <th>1003</th>\n",
       "      <td>MSFT</td>\n",
       "      <td>2023-12-27</td>\n",
       "      <td>373.690002</td>\n",
       "      <td>375.059998</td>\n",
       "      <td>372.809998</td>\n",
       "      <td>374.070007</td>\n",
       "      <td>374.070007</td>\n",
       "      <td>14905400</td>\n",
       "    </tr>\n",
       "    <tr>\n",
       "      <th>1004</th>\n",
       "      <td>MSFT</td>\n",
       "      <td>2023-12-28</td>\n",
       "      <td>375.369995</td>\n",
       "      <td>376.459991</td>\n",
       "      <td>374.160004</td>\n",
       "      <td>375.279999</td>\n",
       "      <td>375.279999</td>\n",
       "      <td>14327000</td>\n",
       "    </tr>\n",
       "    <tr>\n",
       "      <th>1005</th>\n",
       "      <td>MSFT</td>\n",
       "      <td>2023-12-29</td>\n",
       "      <td>376.000000</td>\n",
       "      <td>377.160004</td>\n",
       "      <td>373.480011</td>\n",
       "      <td>376.040009</td>\n",
       "      <td>376.040009</td>\n",
       "      <td>18723000</td>\n",
       "    </tr>\n",
       "  </tbody>\n",
       "</table>\n",
       "</div>"
      ],
      "text/plain": [
       "     symbol        Date        Open        High         Low       Close  \\\n",
       "1001   MSFT  2023-12-22  373.679993  375.179993  372.709991  374.579987   \n",
       "1002   MSFT  2023-12-26  375.000000  376.940002  373.500000  374.660004   \n",
       "1003   MSFT  2023-12-27  373.690002  375.059998  372.809998  374.070007   \n",
       "1004   MSFT  2023-12-28  375.369995  376.459991  374.160004  375.279999   \n",
       "1005   MSFT  2023-12-29  376.000000  377.160004  373.480011  376.040009   \n",
       "\n",
       "       Adj Close    Volume  \n",
       "1001  374.579987  17091100  \n",
       "1002  374.660004  12673100  \n",
       "1003  374.070007  14905400  \n",
       "1004  375.279999  14327000  \n",
       "1005  376.040009  18723000  "
      ]
     },
     "execution_count": 122,
     "metadata": {},
     "output_type": "execute_result"
    }
   ],
   "source": [
    "from glob import glob\n",
    "import os\n",
    "\n",
    "# read file paths and printout\n",
    "file_paths = glob(\"./data/*_stock_price_data.csv\")\n",
    "\n",
    "# For loop to read data from file paths\n",
    "dataframes = []\n",
    "for file in file_paths:\n",
    "    data = pd.read_csv(file)\n",
    "    \n",
    "    # Extract the stock symbol from the file name\n",
    "    symbol = os.path.basename(file).split('_')[0]\n",
    "    \n",
    "    # Create a new column 'symbol' based on the stock symbol\n",
    "    data[\"symbol\"] = symbol\n",
    "    \n",
    "    # Rearrange columns to place 'symbol' as the first column\n",
    "    columns_order = ['symbol'] + [col for col in data.columns if col != 'symbol']\n",
    "    data = data[columns_order]\n",
    "    \n",
    "    dataframes.append(data)\n",
    "\n",
    "# Concatenate the dataframes\n",
    "df = pd.concat(dataframes)\n",
    "\n",
    "# Print the dimension of the dataframe and view the first 5 rows\n",
    "print(df.shape)\n",
    "print()\n",
    "df.tail()\n"
   ]
  },
  {
   "cell_type": "code",
   "execution_count": null,
   "metadata": {},
   "outputs": [],
   "source": [
    "from glob import glob\n",
    "import os\n",
    "\n",
    "file_paths = glob(\"./data/*_stock_price_data.csv\")\n",
    "\n",
    "def merge_stock_data():\n",
    "    \n",
    "    # For loop to read data from file paths\n",
    "    dataframes = []\n",
    "    \n",
    "    for file in file_paths:\n",
    "        \n",
    "        data = pd.read_csv(file)\n",
    "    \n",
    "        # Extract the stock symbol from the file name\n",
    "        symbol = os.path.basename(file).split('_')[0]\n",
    "\n",
    "        # Create a new column 'symbol' based on the stock symbol\n",
    "        data[\"symbol\"] = symbol\n",
    "\n",
    "        # Rearrange columns to place 'symbol' as the first column\n",
    "        columns_order = ['symbol'] + [col for col in data.columns if col != 'symbol']\n",
    "        data = data[columns_order]\n",
    "\n",
    "        dataframes.append(data)\n",
    "        \n",
    "        # Concatenate the dataframes\n",
    "        df = pd.concat(dataframes)\n",
    "        \n",
    "        return df"
   ]
  },
  {
   "cell_type": "code",
   "execution_count": 126,
   "metadata": {
    "tags": []
   },
   "outputs": [
    {
     "ename": "AttributeError",
     "evalue": "'NoneType' object has no attribute 'groupby'",
     "output_type": "error",
     "traceback": [
      "\u001b[1;31m---------------------------------------------------------------------------\u001b[0m",
      "\u001b[1;31mAttributeError\u001b[0m                            Traceback (most recent call last)",
      "Cell \u001b[1;32mIn[126], line 5\u001b[0m\n\u001b[0;32m      1\u001b[0m \u001b[38;5;28;01mimport\u001b[39;00m \u001b[38;5;21;01mpytimetk\u001b[39;00m \u001b[38;5;28;01mas\u001b[39;00m \u001b[38;5;21;01mtk\u001b[39;00m\n\u001b[0;32m      3\u001b[0m summary_symbol_df \u001b[38;5;241m=\u001b[39m (\u001b[43mdf\u001b[49m\n\u001b[0;32m      4\u001b[0m \u001b[43m                     \u001b[49m\u001b[38;5;241;43m.\u001b[39;49m\u001b[43mset_index\u001b[49m\u001b[43m(\u001b[49m\u001b[38;5;124;43m\"\u001b[39;49m\u001b[38;5;124;43mDate\u001b[39;49m\u001b[38;5;124;43m\"\u001b[39;49m\u001b[43m,\u001b[49m\u001b[43m \u001b[49m\u001b[43minplace\u001b[49m\u001b[38;5;241;43m=\u001b[39;49m\u001b[38;5;28;43;01mTrue\u001b[39;49;00m\u001b[43m)\u001b[49m\n\u001b[1;32m----> 5\u001b[0m \u001b[43m                     \u001b[49m\u001b[38;5;241;43m.\u001b[39;49m\u001b[43mgroupby\u001b[49m(\u001b[38;5;124m\"\u001b[39m\u001b[38;5;124msymbol\u001b[39m\u001b[38;5;124m\"\u001b[39m) \n\u001b[0;32m      6\u001b[0m                      \u001b[38;5;241m.\u001b[39msummarize_by_time(\n\u001b[0;32m      7\u001b[0m                          date_column  \u001b[38;5;241m=\u001b[39m \u001b[38;5;124m'\u001b[39m\u001b[38;5;124mDate\u001b[39m\u001b[38;5;124m'\u001b[39m, \n\u001b[0;32m      8\u001b[0m                          value_column \u001b[38;5;241m=\u001b[39m \u001b[38;5;124m'\u001b[39m\u001b[38;5;124mClose\u001b[39m\u001b[38;5;124m'\u001b[39m,\n\u001b[0;32m      9\u001b[0m                          freq         \u001b[38;5;241m=\u001b[39m \u001b[38;5;124m\"\u001b[39m\u001b[38;5;124mMS\u001b[39m\u001b[38;5;124m\"\u001b[39m,\n\u001b[0;32m     10\u001b[0m                          agg_func     \u001b[38;5;241m=\u001b[39m \u001b[38;5;124m'\u001b[39m\u001b[38;5;124msum\u001b[39m\u001b[38;5;124m'\u001b[39m,\n\u001b[0;32m     11\u001b[0m                          wide_format  \u001b[38;5;241m=\u001b[39m \u001b[38;5;28;01mFalse\u001b[39;00m\n\u001b[0;32m     12\u001b[0m                      ))\n\u001b[0;32m     14\u001b[0m \u001b[38;5;66;03m# First 5 rows shown\u001b[39;00m\n\u001b[0;32m     15\u001b[0m summary_symbol_df\u001b[38;5;241m.\u001b[39mhead()\n",
      "\u001b[1;31mAttributeError\u001b[0m: 'NoneType' object has no attribute 'groupby'"
     ]
    }
   ],
   "source": [
    "import pytimetk as tk\n",
    "\n",
    "summary_symbol_df = (df\n",
    "                     .set_index(\"Date\", inplace=True)\n",
    "                     .groupby(\"symbol\") \n",
    "                     .summarize_by_time(\n",
    "                         date_column  = 'Date', \n",
    "                         value_column = 'Close',\n",
    "                         freq         = \"MS\",\n",
    "                         agg_func     = 'sum',\n",
    "                         wide_format  = False\n",
    "                     ))\n",
    "\n",
    "# First 5 rows shown\n",
    "summary_symbol_df.head()"
   ]
  },
  {
   "cell_type": "code",
   "execution_count": 97,
   "metadata": {
    "tags": []
   },
   "outputs": [
    {
     "name": "stdout",
     "output_type": "stream",
     "text": [
      ">>> Importing data.....\n",
      "----------------------------------------\n",
      "<class 'pandas.core.frame.DataFrame'>\n",
      "RangeIndex: 251 entries, 0 to 250\n",
      "Data columns (total 7 columns):\n",
      " #   Column     Non-Null Count  Dtype  \n",
      "---  ------     --------------  -----  \n",
      " 0   Date       251 non-null    object \n",
      " 1   Open       251 non-null    float64\n",
      " 2   High       251 non-null    float64\n",
      " 3   Low        251 non-null    float64\n",
      " 4   Close      251 non-null    float64\n",
      " 5   Adj Close  251 non-null    float64\n",
      " 6   Volume     251 non-null    int64  \n",
      "dtypes: float64(5), int64(1), object(1)\n",
      "memory usage: 13.9+ KB\n",
      "None\n"
     ]
    },
    {
     "data": {
      "text/html": [
       "<div>\n",
       "<style scoped>\n",
       "    .dataframe tbody tr th:only-of-type {\n",
       "        vertical-align: middle;\n",
       "    }\n",
       "\n",
       "    .dataframe tbody tr th {\n",
       "        vertical-align: top;\n",
       "    }\n",
       "\n",
       "    .dataframe thead th {\n",
       "        text-align: right;\n",
       "    }\n",
       "</style>\n",
       "<table border=\"1\" class=\"dataframe\">\n",
       "  <thead>\n",
       "    <tr style=\"text-align: right;\">\n",
       "      <th></th>\n",
       "      <th>Date</th>\n",
       "      <th>Open</th>\n",
       "      <th>High</th>\n",
       "      <th>Low</th>\n",
       "      <th>Close</th>\n",
       "      <th>Adj Close</th>\n",
       "      <th>Volume</th>\n",
       "    </tr>\n",
       "  </thead>\n",
       "  <tbody>\n",
       "    <tr>\n",
       "      <th>0</th>\n",
       "      <td>2022-01-03</td>\n",
       "      <td>145.054993</td>\n",
       "      <td>145.850998</td>\n",
       "      <td>143.712997</td>\n",
       "      <td>144.991501</td>\n",
       "      <td>144.991501</td>\n",
       "      <td>28646000</td>\n",
       "    </tr>\n",
       "    <tr>\n",
       "      <th>1</th>\n",
       "      <td>2022-01-04</td>\n",
       "      <td>145.395996</td>\n",
       "      <td>146.485001</td>\n",
       "      <td>143.716507</td>\n",
       "      <td>144.399506</td>\n",
       "      <td>144.399506</td>\n",
       "      <td>28400000</td>\n",
       "    </tr>\n",
       "    <tr>\n",
       "      <th>2</th>\n",
       "      <td>2022-01-05</td>\n",
       "      <td>144.419998</td>\n",
       "      <td>144.499496</td>\n",
       "      <td>137.688004</td>\n",
       "      <td>137.774994</td>\n",
       "      <td>137.774994</td>\n",
       "      <td>54618000</td>\n",
       "    </tr>\n",
       "    <tr>\n",
       "      <th>3</th>\n",
       "      <td>2022-01-06</td>\n",
       "      <td>136.998505</td>\n",
       "      <td>139.940002</td>\n",
       "      <td>136.558502</td>\n",
       "      <td>137.747498</td>\n",
       "      <td>137.747498</td>\n",
       "      <td>37348000</td>\n",
       "    </tr>\n",
       "    <tr>\n",
       "      <th>4</th>\n",
       "      <td>2022-01-07</td>\n",
       "      <td>138.145493</td>\n",
       "      <td>138.448502</td>\n",
       "      <td>135.766495</td>\n",
       "      <td>137.016998</td>\n",
       "      <td>137.016998</td>\n",
       "      <td>29760000</td>\n",
       "    </tr>\n",
       "  </tbody>\n",
       "</table>\n",
       "</div>"
      ],
      "text/plain": [
       "         Date        Open        High         Low       Close   Adj Close  \\\n",
       "0  2022-01-03  145.054993  145.850998  143.712997  144.991501  144.991501   \n",
       "1  2022-01-04  145.395996  146.485001  143.716507  144.399506  144.399506   \n",
       "2  2022-01-05  144.419998  144.499496  137.688004  137.774994  137.774994   \n",
       "3  2022-01-06  136.998505  139.940002  136.558502  137.747498  137.747498   \n",
       "4  2022-01-07  138.145493  138.448502  135.766495  137.016998  137.016998   \n",
       "\n",
       "     Volume  \n",
       "0  28646000  \n",
       "1  28400000  \n",
       "2  54618000  \n",
       "3  37348000  \n",
       "4  29760000  "
      ]
     },
     "execution_count": 97,
     "metadata": {},
     "output_type": "execute_result"
    }
   ],
   "source": [
    "import pandas as pd\n",
    "\n",
    "print(f\">>> Importing data.....\")\n",
    "print(f\"{'-'}\"*40)\n",
    "data = pd.read_csv(\"./data/GOOGL_stock_price_data.csv\")\n",
    "print(data.info())\n",
    "data.head()"
   ]
  },
  {
   "cell_type": "code",
   "execution_count": 98,
   "metadata": {
    "tags": []
   },
   "outputs": [
    {
     "name": "stdout",
     "output_type": "stream",
     "text": [
      "<class 'pandas.core.frame.DataFrame'>\n",
      "RangeIndex: 1748 entries, 0 to 1747\n",
      "Data columns (total 3 columns):\n",
      " #   Column   Non-Null Count  Dtype  \n",
      "---  ------   --------------  -----  \n",
      " 0   date     1748 non-null   object \n",
      " 1   price    1748 non-null   float64\n",
      " 2   returns  1748 non-null   float64\n",
      "dtypes: float64(2), object(1)\n",
      "memory usage: 41.1+ KB\n"
     ]
    }
   ],
   "source": [
    "from create_daily_stock_returns import *\n",
    "tickers = \"GOOGL\"\n",
    "file_path = \"data/GOOGL_returns_data.csv\"\n",
    "returns = pd.read_csv(file_path)\n",
    "returns['date'] = pd.to_datetime(returns['date'])\n",
    "# returns.date = [x.date() for x in returns.date]\n",
    "returns.info()"
   ]
  },
  {
   "cell_type": "code",
   "execution_count": 28,
   "metadata": {
    "tags": []
   },
   "outputs": [
    {
     "ename": "TypeError",
     "evalue": "float() argument must be a string or a real number, not 'Timestamp'",
     "output_type": "error",
     "traceback": [
      "\u001b[1;31m---------------------------------------------------------------------------\u001b[0m",
      "\u001b[1;31mTypeError\u001b[0m                                 Traceback (most recent call last)",
      "Cell \u001b[1;32mIn[28], line 1\u001b[0m\n\u001b[1;32m----> 1\u001b[0m \u001b[43mreturns\u001b[49m\u001b[38;5;241;43m.\u001b[39;49m\u001b[43mplot_timeseries\u001b[49m\u001b[43m(\u001b[49m\u001b[38;5;124;43m'\u001b[39;49m\u001b[38;5;124;43mdate\u001b[39;49m\u001b[38;5;124;43m'\u001b[39;49m\u001b[43m,\u001b[49m\u001b[43m \u001b[49m\u001b[38;5;124;43m'\u001b[39;49m\u001b[38;5;124;43mreturns\u001b[39;49m\u001b[38;5;124;43m'\u001b[39;49m\u001b[43m)\u001b[49m\n",
      "File \u001b[1;32m~\\AppData\\Roaming\\Python\\Python311\\site-packages\\pandas_flavor\\register.py:157\u001b[0m, in \u001b[0;36mregister_dataframe_method.<locals>.inner.<locals>.AccessorMethod.__call__\u001b[1;34m(self, *args, **kwargs)\u001b[0m\n\u001b[0;32m    155\u001b[0m \u001b[38;5;28;01mglobal\u001b[39;00m method_call_ctx_factory\n\u001b[0;32m    156\u001b[0m \u001b[38;5;28;01mif\u001b[39;00m method_call_ctx_factory \u001b[38;5;129;01mis\u001b[39;00m \u001b[38;5;28;01mNone\u001b[39;00m:\n\u001b[1;32m--> 157\u001b[0m     \u001b[38;5;28;01mreturn\u001b[39;00m \u001b[43mmethod\u001b[49m\u001b[43m(\u001b[49m\u001b[38;5;28;43mself\u001b[39;49m\u001b[38;5;241;43m.\u001b[39;49m\u001b[43m_obj\u001b[49m\u001b[43m,\u001b[49m\u001b[43m \u001b[49m\u001b[38;5;241;43m*\u001b[39;49m\u001b[43margs\u001b[49m\u001b[43m,\u001b[49m\u001b[43m \u001b[49m\u001b[38;5;241;43m*\u001b[39;49m\u001b[38;5;241;43m*\u001b[39;49m\u001b[43mkwargs\u001b[49m\u001b[43m)\u001b[49m\n\u001b[0;32m    159\u001b[0m \u001b[38;5;28;01mreturn\u001b[39;00m handle_pandas_extension_call(\n\u001b[0;32m    160\u001b[0m     method, method_signature, \u001b[38;5;28mself\u001b[39m\u001b[38;5;241m.\u001b[39m_obj, args, kwargs\n\u001b[0;32m    161\u001b[0m )\n",
      "File \u001b[1;32m~\\AppData\\Roaming\\Python\\Python311\\site-packages\\pytimetk\\plot\\plot_timeseries.py:296\u001b[0m, in \u001b[0;36mplot_timeseries\u001b[1;34m(data, date_column, value_column, color_column, color_palette, facet_ncol, facet_nrow, facet_scales, facet_dir, line_color, line_size, line_type, line_alpha, y_intercept, y_intercept_color, x_intercept, x_intercept_color, smooth, smooth_color, smooth_frac, smooth_size, smooth_alpha, legend_show, title, x_lab, y_lab, color_lab, x_axis_date_labels, base_size, width, height, engine)\u001b[0m\n\u001b[0;32m    294\u001b[0m \u001b[38;5;28;01mif\u001b[39;00m smooth:\n\u001b[0;32m    295\u001b[0m     \u001b[38;5;28;01mif\u001b[39;00m color_column \u001b[38;5;129;01mis\u001b[39;00m \u001b[38;5;28;01mNone\u001b[39;00m:\n\u001b[1;32m--> 296\u001b[0m         data[\u001b[38;5;124m'\u001b[39m\u001b[38;5;124m__smooth\u001b[39m\u001b[38;5;124m'\u001b[39m] \u001b[38;5;241m=\u001b[39m \u001b[43mlowess\u001b[49m\u001b[43m(\u001b[49m\u001b[43mdata\u001b[49m\u001b[43m[\u001b[49m\u001b[43mvalue_column\u001b[49m\u001b[43m]\u001b[49m\u001b[43m,\u001b[49m\u001b[43m \u001b[49m\u001b[43mdata\u001b[49m\u001b[43m[\u001b[49m\u001b[43mdate_column\u001b[49m\u001b[43m]\u001b[49m\u001b[43m,\u001b[49m\u001b[43m \u001b[49m\u001b[43mfrac\u001b[49m\u001b[38;5;241;43m=\u001b[39;49m\u001b[43msmooth_frac\u001b[49m\u001b[43m,\u001b[49m\u001b[43m \u001b[49m\u001b[43mreturn_sorted\u001b[49m\u001b[38;5;241;43m=\u001b[39;49m\u001b[38;5;28;43;01mFalse\u001b[39;49;00m\u001b[43m)\u001b[49m\n\u001b[0;32m    297\u001b[0m     \u001b[38;5;28;01melse\u001b[39;00m:\n\u001b[0;32m    298\u001b[0m         data[\u001b[38;5;124m'\u001b[39m\u001b[38;5;124m__smooth\u001b[39m\u001b[38;5;124m'\u001b[39m] \u001b[38;5;241m=\u001b[39m np\u001b[38;5;241m.\u001b[39mnan\n",
      "File \u001b[1;32m~\\AppData\\Roaming\\Python\\Python311\\site-packages\\statsmodels\\nonparametric\\smoothers_lowess.py:139\u001b[0m, in \u001b[0;36mlowess\u001b[1;34m(endog, exog, frac, it, delta, xvals, is_sorted, missing, return_sorted)\u001b[0m\n\u001b[0;32m     15\u001b[0m \u001b[38;5;250m\u001b[39m\u001b[38;5;124;03m'''LOWESS (Locally Weighted Scatterplot Smoothing)\u001b[39;00m\n\u001b[0;32m     16\u001b[0m \n\u001b[0;32m     17\u001b[0m \u001b[38;5;124;03mA lowess function that outs smoothed estimates of endog\u001b[39;00m\n\u001b[1;32m   (...)\u001b[0m\n\u001b[0;32m    135\u001b[0m \n\u001b[0;32m    136\u001b[0m \u001b[38;5;124;03m'''\u001b[39;00m\n\u001b[0;32m    138\u001b[0m endog \u001b[38;5;241m=\u001b[39m np\u001b[38;5;241m.\u001b[39masarray(endog, \u001b[38;5;28mfloat\u001b[39m)\n\u001b[1;32m--> 139\u001b[0m exog \u001b[38;5;241m=\u001b[39m \u001b[43mnp\u001b[49m\u001b[38;5;241;43m.\u001b[39;49m\u001b[43masarray\u001b[49m\u001b[43m(\u001b[49m\u001b[43mexog\u001b[49m\u001b[43m,\u001b[49m\u001b[43m \u001b[49m\u001b[38;5;28;43mfloat\u001b[39;49m\u001b[43m)\u001b[49m\n\u001b[0;32m    141\u001b[0m \u001b[38;5;66;03m# Whether xvals argument was provided\u001b[39;00m\n\u001b[0;32m    142\u001b[0m given_xvals \u001b[38;5;241m=\u001b[39m (xvals \u001b[38;5;129;01mis\u001b[39;00m \u001b[38;5;129;01mnot\u001b[39;00m \u001b[38;5;28;01mNone\u001b[39;00m)\n",
      "File \u001b[1;32m~\\AppData\\Roaming\\Python\\Python311\\site-packages\\pandas\\core\\series.py:953\u001b[0m, in \u001b[0;36mSeries.__array__\u001b[1;34m(self, dtype)\u001b[0m\n\u001b[0;32m    906\u001b[0m \u001b[38;5;250m\u001b[39m\u001b[38;5;124;03m\"\"\"\u001b[39;00m\n\u001b[0;32m    907\u001b[0m \u001b[38;5;124;03mReturn the values as a NumPy array.\u001b[39;00m\n\u001b[0;32m    908\u001b[0m \n\u001b[1;32m   (...)\u001b[0m\n\u001b[0;32m    950\u001b[0m \u001b[38;5;124;03m      dtype='datetime64[ns]')\u001b[39;00m\n\u001b[0;32m    951\u001b[0m \u001b[38;5;124;03m\"\"\"\u001b[39;00m\n\u001b[0;32m    952\u001b[0m values \u001b[38;5;241m=\u001b[39m \u001b[38;5;28mself\u001b[39m\u001b[38;5;241m.\u001b[39m_values\n\u001b[1;32m--> 953\u001b[0m arr \u001b[38;5;241m=\u001b[39m \u001b[43mnp\u001b[49m\u001b[38;5;241;43m.\u001b[39;49m\u001b[43masarray\u001b[49m\u001b[43m(\u001b[49m\u001b[43mvalues\u001b[49m\u001b[43m,\u001b[49m\u001b[43m \u001b[49m\u001b[43mdtype\u001b[49m\u001b[38;5;241;43m=\u001b[39;49m\u001b[43mdtype\u001b[49m\u001b[43m)\u001b[49m\n\u001b[0;32m    954\u001b[0m \u001b[38;5;28;01mif\u001b[39;00m using_copy_on_write() \u001b[38;5;129;01mand\u001b[39;00m astype_is_view(values\u001b[38;5;241m.\u001b[39mdtype, arr\u001b[38;5;241m.\u001b[39mdtype):\n\u001b[0;32m    955\u001b[0m     arr \u001b[38;5;241m=\u001b[39m arr\u001b[38;5;241m.\u001b[39mview()\n",
      "\u001b[1;31mTypeError\u001b[0m: float() argument must be a string or a real number, not 'Timestamp'"
     ]
    }
   ],
   "source": [
    "returns.plot_timeseries('date', 'returns')"
   ]
  },
  {
   "cell_type": "code",
   "execution_count": null,
   "metadata": {},
   "outputs": [],
   "source": []
  }
 ],
 "metadata": {
  "kernelspec": {
   "display_name": "Python 3 (ipykernel)",
   "language": "python",
   "name": "python3"
  },
  "language_info": {
   "codemirror_mode": {
    "name": "ipython",
    "version": 3
   },
   "file_extension": ".py",
   "mimetype": "text/x-python",
   "name": "python",
   "nbconvert_exporter": "python",
   "pygments_lexer": "ipython3",
   "version": "3.11.5"
  }
 },
 "nbformat": 4,
 "nbformat_minor": 4
}
